{
 "cells": [
  {
   "cell_type": "code",
   "execution_count": 3,
   "metadata": {
    "collapsed": false
   },
   "outputs": [
    {
     "name": "stdout",
     "output_type": "stream",
     "text": [
      "[['', 'year', 'month', 'intent', 'police', 'sex', 'age', 'race', 'hispanic', 'place', 'education'], ['1', '2012', '01', 'Suicide', '0', 'M', '34', 'Asian/Pacific Islander', '100', 'Home', 'BA+'], ['2', '2012', '01', 'Suicide', '0', 'F', '21', 'White', '100', 'Street', 'Some college'], ['3', '2012', '01', 'Suicide', '0', 'M', '60', 'White', '100', 'Other specified', 'BA+'], ['4', '2012', '02', 'Suicide', '0', 'M', '64', 'White', '100', 'Home', 'BA+']]\n"
     ]
    }
   ],
   "source": [
    "# Part 2- Introduction to the dataset\n",
    "import csv\n",
    "with open(\"full_data.csv\", \"rbU\") as f:\n",
    "    new_f = csv.reader(f)\n",
    "    data = list(new_f)\n",
    "    f.close()\n",
    "print data[0:5]"
   ]
  },
  {
   "cell_type": "code",
   "execution_count": 4,
   "metadata": {
    "collapsed": false
   },
   "outputs": [
    {
     "name": "stdout",
     "output_type": "stream",
     "text": [
      "['', 'year', 'month', 'intent', 'police', 'sex', 'age', 'race', 'hispanic', 'place', 'education']\n",
      "[['1', '2012', '01', 'Suicide', '0', 'M', '34', 'Asian/Pacific Islander', '100', 'Home', 'BA+'], ['2', '2012', '01', 'Suicide', '0', 'F', '21', 'White', '100', 'Street', 'Some college'], ['3', '2012', '01', 'Suicide', '0', 'M', '60', 'White', '100', 'Other specified', 'BA+'], ['4', '2012', '02', 'Suicide', '0', 'M', '64', 'White', '100', 'Home', 'BA+'], ['5', '2012', '02', 'Suicide', '0', 'M', '31', 'White', '100', 'Other specified', 'HS/GED']]\n"
     ]
    }
   ],
   "source": [
    "# Part 2- Removing header from a list of lists\n",
    "headers = data[0]\n",
    "data = data[1:]\n",
    "print headers\n",
    "print data[0:5]"
   ]
  },
  {
   "cell_type": "code",
   "execution_count": 5,
   "metadata": {
    "collapsed": false
   },
   "outputs": [
    {
     "name": "stdout",
     "output_type": "stream",
     "text": [
      "{'2014': 33599, '2013': 33636, '2012': 33563}\n"
     ]
    }
   ],
   "source": [
    "# Part 3- Counting gun deaths by year\n",
    "years = [x[1] for x in data]\n",
    "year_counts = {}\n",
    "for each_year in years:\n",
    "    if each_year not in year_counts.keys():\n",
    "        year_counts[each_year] = 1\n",
    "    else:\n",
    "        year_counts[each_year] += 1\n",
    "print year_counts"
   ]
  },
  {
   "cell_type": "code",
   "execution_count": 18,
   "metadata": {
    "collapsed": false
   },
   "outputs": [
    {
     "name": "stdout",
     "output_type": "stream",
     "text": [
      "[datetime.datetime(2012, 1, 1, 0, 0), datetime.datetime(2012, 1, 1, 0, 0), datetime.datetime(2012, 1, 1, 0, 0), datetime.datetime(2012, 2, 1, 0, 0), datetime.datetime(2012, 2, 1, 0, 0)]\n"
     ]
    }
   ],
   "source": [
    "# Part 4- Exploring Gun Deaths by Month and Year\n",
    "import datetime\n",
    "year = []\n",
    "month = []\n",
    "for each_row in data:\n",
    "    year.append(int(each_row[1]))\n",
    "    month.append(int(each_row[2]))\n",
    "dates = [datetime.datetime(year[x], month[x], day=1) for x in range(len(year))]\n",
    "print dates[0:5]"
   ]
  },
  {
   "cell_type": "code",
   "execution_count": 83,
   "metadata": {
    "collapsed": false
   },
   "outputs": [
    {
     "name": "stdout",
     "output_type": "stream",
     "text": [
      "{'Males': 86348, 'Females': 14449}\n",
      "{'Native American/Native Alaskan': 917, 'Black': 23296, 'White': 66237, 'Asian/Pacific Islander': 1325, 'Hispanic': 9022}\n"
     ]
    }
   ],
   "source": [
    "# Part 5- Exploring gun deaths by race and sex\n",
    "list_of_sexes = [x[5] for x in data]\n",
    "male = 0\n",
    "female = 0\n",
    "for i in list_of_sexes:\n",
    "    if i == 'M':\n",
    "        male += 1\n",
    "    else:\n",
    "        female += 1\n",
    "sex_counts = {'Males': male, 'Females': female}\n",
    "print sex_counts\n",
    "\n",
    "race_list = [x[7] for x in data]\n",
    "#print race_list\n",
    "unique_races = set(race_list)\n",
    "#print unique_races\n",
    "a1 = a2 = a3 = a4 = a5 = 0\n",
    "for i in race_list:\n",
    "    if i == 'Black':\n",
    "        a1 += 1\n",
    "    elif i == 'Hispanic':\n",
    "        a2 += 1\n",
    "    elif i == 'Native American/Native Alaskan':\n",
    "        a3 += 1\n",
    "    elif i == 'White':\n",
    "        a4 += 1\n",
    "    elif i == 'Asian/Pacific Islander':\n",
    "        a5 += 1\n",
    "    else:\n",
    "        pass\n",
    "race_counts = {'Asian/Pacific Islander':a5, 'Black':a1, 'Hispanic':a2, 'Native American/Native Alaskan':a3, 'White':a4}\n",
    "print race_counts \n"
   ]
  },
  {
   "cell_type": "code",
   "execution_count": 84,
   "metadata": {
    "collapsed": false
   },
   "outputs": [],
   "source": [
    "# Part 6- Reading in a second dataset\n"
   ]
  },
  {
   "cell_type": "code",
   "execution_count": null,
   "metadata": {
    "collapsed": true
   },
   "outputs": [],
   "source": []
  }
 ],
 "metadata": {
  "kernelspec": {
   "display_name": "Python [Root]",
   "language": "python",
   "name": "Python [Root]"
  },
  "language_info": {
   "codemirror_mode": {
    "name": "ipython",
    "version": 2
   },
   "file_extension": ".py",
   "mimetype": "text/x-python",
   "name": "python",
   "nbconvert_exporter": "python",
   "pygments_lexer": "ipython2",
   "version": "2.7.12"
  }
 },
 "nbformat": 4,
 "nbformat_minor": 0
}
